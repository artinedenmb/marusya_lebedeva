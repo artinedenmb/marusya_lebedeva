{
 "cells": [
  {
   "cell_type": "code",
   "execution_count": null,
   "metadata": {},
   "outputs": [],
   "source": []
  },
  {
   "cell_type": "markdown",
   "metadata": {},
   "source": [
    ".FASTA DNA, RNA, Protein\n",
    ">Name_seq_type\n",
    "\n",
    ".json\n",
    "\"___\":\"_\"\n",
    "\n",
    "run is    python3 file_name.py output.txt   (saving to)\n",
    "\n",
    "class main\n",
    "\n",
    "\n",
    "class Sequence(object):\n",
    "    def __init__()\n",
    "\n",
    "class DNA\n",
    "\n",
    "class RNA\n",
    "\n",
    "class Protein\n",
    "\n",
    "print(__name__)"
   ]
  },
  {
   "cell_type": "markdown",
   "metadata": {},
   "source": [
    "import sys\n",
    "import json\n",
    "from seq import Sequence\n",
    "\n",
    "def main():\n",
    "    with open('rna_codon_table.json') as f:\n",
    "        CODON_TABLE = json.load(f)\n",
    "        codon_set =  set(CODON_TABLE.values())\n",
    "        codon_set.remove('Stop')\n",
    "        nucl = 'A'\n",
    "        if nucl not in codon_set:\n",
    "            print('no')\n",
    "    args = sys.argv[1:]\n",
    "    print(sys.argv)\n",
    "\n",
    "if __name__ = '__main__':\n",
    "    main()"
   ]
  },
  {
   "cell_type": "markdown",
   "metadata": {},
   "source": [
    "импортировать первый файл во второй\n",
    "python3 file_name.py input.fasta output.txt\n"
   ]
  },
  {
   "cell_type": "markdown",
   "metadata": {},
   "source": [
    "Sequence\n",
    "\n",
    "__init__:\n",
    "\n",
    "_parse(self, file_name):\n",
    "\n",
    "_check(self, sequence):\n",
    "\n",
    "нужно убрать stop"
   ]
  }
 ],
 "metadata": {
  "kernelspec": {
   "display_name": "base",
   "language": "python",
   "name": "python3"
  },
  "language_info": {
   "name": "python",
   "version": "3.11.4"
  },
  "orig_nbformat": 4
 },
 "nbformat": 4,
 "nbformat_minor": 2
}
