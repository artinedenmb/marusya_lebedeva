{
 "cells": [
  {
   "cell_type": "code",
   "execution_count": 1,
   "metadata": {},
   "outputs": [],
   "source": [
    "import turtle\n",
    "from random import *"
   ]
  },
  {
   "cell_type": "markdown",
   "metadata": {},
   "source": [
    "упражнение 1"
   ]
  },
  {
   "cell_type": "code",
   "execution_count": 4,
   "metadata": {},
   "outputs": [],
   "source": [
    "turtle.goto(0, 0)\n",
    "turtle.color('purple')\n",
    "turtle.shape('circle')\n",
    "turtle.speed(100)\n",
    "for i in range(1000):\n",
    "    x, y = randint(-300, 300), randint(-300, 300)\n",
    "    turtle.goto(x, y)\n",
    "turtle.exitonclick()"
   ]
  },
  {
   "cell_type": "markdown",
   "metadata": {},
   "source": [
    "упражнение 2"
   ]
  },
  {
   "cell_type": "code",
   "execution_count": 50,
   "metadata": {},
   "outputs": [],
   "source": [
    "def draw_zero():\n",
    "    turtle.pendown()\n",
    "    turtle.forward(10)\n",
    "    turtle.left(90)\n",
    "    turtle.forward(20)\n",
    "    turtle.left(90)\n",
    "    turtle.forward(10)\n",
    "    turtle.left(90)\n",
    "    turtle.forward(20)\n",
    "    turtle.penup()\n",
    "    turtle.left(90)\n",
    "    turtle.forward(20)"
   ]
  },
  {
   "cell_type": "code",
   "execution_count": 25,
   "metadata": {},
   "outputs": [],
   "source": [
    "from math import sqrt\n",
    "def draw_one():\n",
    "    turtle.left(90)\n",
    "    turtle.forward(10)\n",
    "    turtle.pendown()\n",
    "    turtle.right(45)\n",
    "    turtle.forward(sqrt(200))\n",
    "    turtle.right(180-45)\n",
    "    turtle.forward(20)\n",
    "    turtle.penup()\n",
    "    turtle.left(90)\n",
    "    turtle.forward(10)"
   ]
  },
  {
   "cell_type": "code",
   "execution_count": 28,
   "metadata": {},
   "outputs": [],
   "source": [
    "def draw_two():\n",
    "    turtle.left(90)\n",
    "    turtle.forward(20)\n",
    "    turtle.pendown()\n",
    "    turtle.right(90)\n",
    "    turtle.forward(10)\n",
    "    turtle.right(90)\n",
    "    turtle.forward(10)\n",
    "    turtle.right(90)\n",
    "    turtle.forward(10)\n",
    "    turtle.left(90)\n",
    "    turtle.forward(10)\n",
    "    turtle.left(90)\n",
    "    turtle.forward(10)\n",
    "    turtle.penup()\n",
    "    turtle.forward(10)"
   ]
  },
  {
   "cell_type": "code",
   "execution_count": 31,
   "metadata": {},
   "outputs": [],
   "source": [
    "def draw_three():\n",
    "    turtle.left(90)\n",
    "    turtle.forward(20)\n",
    "    turtle.pendown()\n",
    "    turtle.right(90)\n",
    "    turtle.forward(10)\n",
    "    turtle.right(90)\n",
    "    turtle.forward(10)\n",
    "    turtle.right(90)\n",
    "    turtle.forward(10)\n",
    "    turtle.penup()\n",
    "    turtle.left(180)\n",
    "    turtle.forward(10)\n",
    "    turtle.right(90)\n",
    "    turtle.pendown()\n",
    "    turtle.forward(10)\n",
    "    turtle.right(90)\n",
    "    turtle.forward(10)\n",
    "    turtle.penup()\n",
    "    turtle.left(180)\n",
    "    turtle.forward(20)"
   ]
  },
  {
   "cell_type": "code",
   "execution_count": 34,
   "metadata": {},
   "outputs": [],
   "source": [
    "def draw_four():\n",
    "    turtle.left(90)\n",
    "    turtle.forward(20)\n",
    "    turtle.pendown()\n",
    "    turtle.right(180)\n",
    "    turtle.forward(10)\n",
    "    turtle.left(90)\n",
    "    turtle.forward(10)\n",
    "    turtle.left(90)\n",
    "    turtle.forward(10)\n",
    "    turtle.penup()\n",
    "    turtle.right(180)\n",
    "    turtle.forward(10)\n",
    "    turtle.pendown()\n",
    "    turtle.forward(10)\n",
    "    turtle.penup()\n",
    "    turtle.left(90)\n",
    "    turtle.forward(10)\n"
   ]
  },
  {
   "cell_type": "code",
   "execution_count": 35,
   "metadata": {},
   "outputs": [],
   "source": [
    "def draw_five():\n",
    "    turtle.left(90)\n",
    "    turtle.forward(20)\n",
    "    turtle.right(90)\n",
    "    turtle.forward(10)\n",
    "    turtle.right(180)\n",
    "    turtle.pendown()\n",
    "    turtle.forward(10)\n",
    "    turtle.left(90)\n",
    "    turtle.forward(10)\n",
    "    turtle.left(90)\n",
    "    turtle.forward(10)\n",
    "    turtle.right(90)\n",
    "    turtle.forward(10)\n",
    "    turtle.right(90)\n",
    "    turtle.forward(10)\n",
    "    turtle.penup()\n",
    "    turtle.left(180)\n",
    "    turtle.forward(20)"
   ]
  },
  {
   "cell_type": "code",
   "execution_count": 44,
   "metadata": {},
   "outputs": [],
   "source": [
    "def draw_six():\n",
    "    turtle.left(90)\n",
    "    turtle.forward(20)\n",
    "    turtle.right(90)\n",
    "    turtle.forward(10)\n",
    "    turtle.right(180)\n",
    "    turtle.pendown()\n",
    "    turtle.forward(10)\n",
    "    turtle.left(90)\n",
    "    turtle.forward(10)\n",
    "    turtle.left(90)\n",
    "    turtle.forward(10)\n",
    "    turtle.right(90)\n",
    "    turtle.forward(10)\n",
    "    turtle.right(90)\n",
    "    turtle.forward(10)\n",
    "    turtle.right(90)\n",
    "    turtle.forward(10)\n",
    "    turtle.penup()\n",
    "    turtle.right(180)\n",
    "    turtle.forward(10)\n",
    "    turtle.left(90)\n",
    "    turtle.forward(20)"
   ]
  },
  {
   "cell_type": "code",
   "execution_count": 37,
   "metadata": {},
   "outputs": [],
   "source": [
    "def draw_seven():\n",
    "    turtle.left(90)\n",
    "    turtle.forward(20)\n",
    "    turtle.pendown()\n",
    "    turtle.right(90)\n",
    "    turtle.forward(10)\n",
    "    turtle.right(90)\n",
    "    turtle.forward(20)\n",
    "    turtle.left(90)\n",
    "    turtle.penup()\n",
    "    turtle.forward(10)"
   ]
  },
  {
   "cell_type": "code",
   "execution_count": 38,
   "metadata": {},
   "outputs": [],
   "source": [
    "def draw_eight():\n",
    "    turtle.pendown()\n",
    "    turtle.left(90)\n",
    "    turtle.forward(20)\n",
    "    turtle.right(90)\n",
    "    turtle.forward(10)\n",
    "    turtle.right(90)\n",
    "    turtle.forward(10)\n",
    "    turtle.right(90)\n",
    "    turtle.forward(10)\n",
    "    turtle.penup()\n",
    "    turtle.left(180)\n",
    "    turtle.forward(10)\n",
    "    turtle.right(90)\n",
    "    turtle.pendown()\n",
    "    turtle.forward(10)\n",
    "    turtle.right(90)\n",
    "    turtle.forward(10)\n",
    "    turtle.penup()\n",
    "    turtle.left(180)\n",
    "    turtle.forward(20)"
   ]
  },
  {
   "cell_type": "code",
   "execution_count": 39,
   "metadata": {},
   "outputs": [],
   "source": [
    "def draw_nine():\n",
    "    turtle.left(90)\n",
    "    turtle.forward(10)\n",
    "    turtle.pendown()\n",
    "    turtle.forward(10)\n",
    "    turtle.right(90)\n",
    "    turtle.forward(10)\n",
    "    turtle.right(90)\n",
    "    turtle.forward(10)\n",
    "    turtle.right(90)\n",
    "    turtle.forward(10)\n",
    "    turtle.penup()\n",
    "    turtle.left(180)\n",
    "    turtle.forward(10)\n",
    "    turtle.right(90)\n",
    "    turtle.pendown()\n",
    "    turtle.forward(10)\n",
    "    turtle.right(90)\n",
    "    turtle.forward(10)\n",
    "    turtle.penup()\n",
    "    turtle.left(180)\n",
    "    turtle.forward(20)"
   ]
  },
  {
   "cell_type": "code",
   "execution_count": 47,
   "metadata": {},
   "outputs": [],
   "source": [
    "def know_what_to_draw(numbers):\n",
    "    turtle.speed(100)\n",
    "    turtle.penup()\n",
    "    turtle.goto(-300, 0)\n",
    "    for i in numbers:\n",
    "        if i == 0:\n",
    "            draw_zero()\n",
    "        if i == 1:\n",
    "            draw_one()\n",
    "        if i == 2:\n",
    "            draw_two()\n",
    "        if i == 3:\n",
    "            draw_three()\n",
    "        if i == 4:\n",
    "            draw_four()\n",
    "        if i == 5:\n",
    "            draw_five()\n",
    "        if i == 6:\n",
    "            draw_six()\n",
    "        if i == 7:\n",
    "            draw_seven()\n",
    "        if i == 8:\n",
    "            draw_eight()\n",
    "        if i == 9:\n",
    "            draw_nine()\n",
    "    turtle.exitonclick()\n",
    "        "
   ]
  },
  {
   "cell_type": "code",
   "execution_count": 52,
   "metadata": {},
   "outputs": [],
   "source": [
    "numbers = [int(i) for i in input().split()]\n",
    "know_what_to_draw(numbers)"
   ]
  },
  {
   "cell_type": "markdown",
   "metadata": {},
   "source": [
    "3"
   ]
  },
  {
   "cell_type": "code",
   "execution_count": null,
   "metadata": {},
   "outputs": [],
   "source": [
    "with open('input.txt') as file:\n",
    "    for line in file:\n",
    "       know_what_to_draw(line) "
   ]
  },
  {
   "cell_type": "markdown",
   "metadata": {},
   "source": [
    "4"
   ]
  },
  {
   "cell_type": "code",
   "execution_count": 54,
   "metadata": {},
   "outputs": [],
   "source": [
    "turtle.speed(100)\n",
    "turtle.back(500)\n",
    "turtle.forward(1000)\n",
    "turtle.back(900)\n",
    "turtle.shape('circle')\n",
    "\n",
    "s=450\n",
    "for j in range(13):\n",
    "    s=int(2*s/3)\n",
    "    c=turtle.xcor()\n",
    "    for i in range(s+1):\n",
    "        turtle.goto(i+c,4*s*(i/s-(i/s)**2))\n",
    "turtle.exitonclick()"
   ]
  },
  {
   "cell_type": "markdown",
   "metadata": {},
   "source": [
    "5"
   ]
  },
  {
   "cell_type": "code",
   "execution_count": 59,
   "metadata": {},
   "outputs": [
    {
     "ename": "Terminator",
     "evalue": "",
     "output_type": "error",
     "traceback": [
      "\u001b[0;31m---------------------------------------------------------------------------\u001b[0m",
      "\u001b[0;31mTerminator\u001b[0m                                Traceback (most recent call last)",
      "\u001b[1;32m/Users/maria/Documents/marusya_lebedeva/turtle2_лаб2.ipynb Cell 22\u001b[0m line \u001b[0;36m1\n\u001b[1;32m     <a href='vscode-notebook-cell:/Users/maria/Documents/marusya_lebedeva/turtle2_%D0%BB%D0%B0%D0%B12.ipynb#X30sZmlsZQ%3D%3D?line=14'>15</a>\u001b[0m \u001b[39mfor\u001b[39;00m unit \u001b[39min\u001b[39;00m pool:\n\u001b[1;32m     <a href='vscode-notebook-cell:/Users/maria/Documents/marusya_lebedeva/turtle2_%D0%BB%D0%B0%D0%B12.ipynb#X30sZmlsZQ%3D%3D?line=15'>16</a>\u001b[0m     wh \u001b[39m=\u001b[39m randint(\u001b[39m0\u001b[39m, \u001b[39m359\u001b[39m)\n\u001b[0;32m---> <a href='vscode-notebook-cell:/Users/maria/Documents/marusya_lebedeva/turtle2_%D0%BB%D0%B0%D0%B12.ipynb#X30sZmlsZQ%3D%3D?line=16'>17</a>\u001b[0m     unit\u001b[39m.\u001b[39mright(wh)\n\u001b[1;32m     <a href='vscode-notebook-cell:/Users/maria/Documents/marusya_lebedeva/turtle2_%D0%BB%D0%B0%D0%B12.ipynb#X30sZmlsZQ%3D%3D?line=17'>18</a>\u001b[0m     unit\u001b[39m.\u001b[39mforward(\u001b[39m2\u001b[39m)\n",
      "File \u001b[0;32m~/anaconda3/lib/python3.11/turtle.py:1679\u001b[0m, in \u001b[0;36mTNavigator.right\u001b[0;34m(self, angle)\u001b[0m\n\u001b[1;32m   1660\u001b[0m \u001b[39mdef\u001b[39;00m \u001b[39mright\u001b[39m(\u001b[39mself\u001b[39m, angle):\n\u001b[1;32m   1661\u001b[0m \u001b[39m    \u001b[39m\u001b[39m\"\"\"Turn turtle right by angle units.\u001b[39;00m\n\u001b[1;32m   1662\u001b[0m \n\u001b[1;32m   1663\u001b[0m \u001b[39m    Aliases: right | rt\u001b[39;00m\n\u001b[0;32m   (...)\u001b[0m\n\u001b[1;32m   1677\u001b[0m \u001b[39m    337.0\u001b[39;00m\n\u001b[1;32m   1678\u001b[0m \u001b[39m    \"\"\"\u001b[39;00m\n\u001b[0;32m-> 1679\u001b[0m     \u001b[39mself\u001b[39m\u001b[39m.\u001b[39m_rotate(\u001b[39m-\u001b[39mangle)\n",
      "File \u001b[0;32m~/anaconda3/lib/python3.11/turtle.py:3295\u001b[0m, in \u001b[0;36mRawTurtle._rotate\u001b[0;34m(self, angle)\u001b[0m\n\u001b[1;32m   3293\u001b[0m         \u001b[39mself\u001b[39m\u001b[39m.\u001b[39m_update()\n\u001b[1;32m   3294\u001b[0m \u001b[39mself\u001b[39m\u001b[39m.\u001b[39m_orient \u001b[39m=\u001b[39m neworient\n\u001b[0;32m-> 3295\u001b[0m \u001b[39mself\u001b[39m\u001b[39m.\u001b[39m_update()\n",
      "File \u001b[0;32m~/anaconda3/lib/python3.11/turtle.py:2661\u001b[0m, in \u001b[0;36mRawTurtle._update\u001b[0;34m(self)\u001b[0m\n\u001b[1;32m   2659\u001b[0m     \u001b[39mreturn\u001b[39;00m\n\u001b[1;32m   2660\u001b[0m \u001b[39melif\u001b[39;00m screen\u001b[39m.\u001b[39m_tracing \u001b[39m==\u001b[39m \u001b[39m1\u001b[39m:\n\u001b[0;32m-> 2661\u001b[0m     \u001b[39mself\u001b[39m\u001b[39m.\u001b[39m_update_data()\n\u001b[1;32m   2662\u001b[0m     \u001b[39mself\u001b[39m\u001b[39m.\u001b[39m_drawturtle()\n\u001b[1;32m   2663\u001b[0m     screen\u001b[39m.\u001b[39m_update()                  \u001b[39m# TurtleScreenBase\u001b[39;00m\n",
      "File \u001b[0;32m~/anaconda3/lib/python3.11/turtle.py:2647\u001b[0m, in \u001b[0;36mRawTurtle._update_data\u001b[0;34m(self)\u001b[0m\n\u001b[1;32m   2646\u001b[0m \u001b[39mdef\u001b[39;00m \u001b[39m_update_data\u001b[39m(\u001b[39mself\u001b[39m):\n\u001b[0;32m-> 2647\u001b[0m     \u001b[39mself\u001b[39m\u001b[39m.\u001b[39mscreen\u001b[39m.\u001b[39m_incrementudc()\n\u001b[1;32m   2648\u001b[0m     \u001b[39mif\u001b[39;00m \u001b[39mself\u001b[39m\u001b[39m.\u001b[39mscreen\u001b[39m.\u001b[39m_updatecounter \u001b[39m!=\u001b[39m \u001b[39m0\u001b[39m:\n\u001b[1;32m   2649\u001b[0m         \u001b[39mreturn\u001b[39;00m\n",
      "File \u001b[0;32m~/anaconda3/lib/python3.11/turtle.py:1293\u001b[0m, in \u001b[0;36mTurtleScreen._incrementudc\u001b[0;34m(self)\u001b[0m\n\u001b[1;32m   1291\u001b[0m \u001b[39mif\u001b[39;00m \u001b[39mnot\u001b[39;00m TurtleScreen\u001b[39m.\u001b[39m_RUNNING:\n\u001b[1;32m   1292\u001b[0m     TurtleScreen\u001b[39m.\u001b[39m_RUNNING \u001b[39m=\u001b[39m \u001b[39mTrue\u001b[39;00m\n\u001b[0;32m-> 1293\u001b[0m     \u001b[39mraise\u001b[39;00m Terminator\n\u001b[1;32m   1294\u001b[0m \u001b[39mif\u001b[39;00m \u001b[39mself\u001b[39m\u001b[39m.\u001b[39m_tracing \u001b[39m>\u001b[39m \u001b[39m0\u001b[39m:\n\u001b[1;32m   1295\u001b[0m     \u001b[39mself\u001b[39m\u001b[39m.\u001b[39m_updatecounter \u001b[39m+\u001b[39m\u001b[39m=\u001b[39m \u001b[39m1\u001b[39m\n",
      "\u001b[0;31mTerminator\u001b[0m: "
     ]
    }
   ],
   "source": [
    "from random import randint\n",
    "\n",
    "number_of_turtles = 50\n",
    "steps_of_time_number = 100\n",
    "\n",
    "\n",
    "pool = [turtle.Turtle(shape='turtle') for i in range(number_of_turtles)]\n",
    "for unit in pool:\n",
    "    unit.penup()\n",
    "    unit.speed(50)\n",
    "    unit.goto(randint(-300, 300), randint(-300, 300))\n",
    "\n",
    "\n",
    "for i in range(steps_of_time_number):\n",
    "    for unit in pool:\n",
    "        wh = randint(0, 359)\n",
    "        unit.right(wh)\n",
    "        unit.forward(2)"
   ]
  }
 ],
 "metadata": {
  "kernelspec": {
   "display_name": "base",
   "language": "python",
   "name": "python3"
  },
  "language_info": {
   "codemirror_mode": {
    "name": "ipython",
    "version": 3
   },
   "file_extension": ".py",
   "mimetype": "text/x-python",
   "name": "python",
   "nbconvert_exporter": "python",
   "pygments_lexer": "ipython3",
   "version": "3.11.4"
  },
  "orig_nbformat": 4
 },
 "nbformat": 4,
 "nbformat_minor": 2
}
