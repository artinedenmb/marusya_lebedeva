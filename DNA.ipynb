{
 "cells": [
  {
   "cell_type": "markdown",
   "metadata": {},
   "source": [
    "ооп\n",
    "class Rect:\n",
    "    __init__(self, x, y, ...):\n",
    "    def function(self, ...):\n",
    "инкапсуляция\n",
    "\n",
    "\n",
    "наследование\n",
    "атрибутов, методов\n",
    "\n",
    "полиморфизм\n",
    "не просто наследование из одного надкласса в другие классы\n",
    "\n",
    "можно работать с программами как с модулями, импортировать классы в другие программы\n",
    "\n",
    "class Rect(object):\n",
    "    def __init__(self, x1, y1, ..., x4, y4):\n",
    "        self.x1, self.x2, ... = x1, x2, ...\n",
    "        self.y1,... = y1, ...\n",
    "\n",
    "    def area(self):\n",
    "        v1 = np.sqrt((self.x2 - self.x1)**2 + (self.y1 - self.y2)**2)\n",
    "        ....\n",
    "        return area\n",
    "\n",
    "    def inversion(self):\n",
    "        self.x1 = -self.x1\n",
    "        ...\n",
    "        self.x4 = -self.x4\n",
    "\n",
    "r = Rect(0, 0, 0, 1, 1, 1, 1, 0)\n",
    "print(r.area())\n",
    "print(r.x1, r.y1)\n",
    "\n",
    "далее создаем новый файл в той же директории\n",
    "from seminar3 import Rec\n",
    "\n",
    "будем писать 2 класса: ДНК, РНК\n",
    "class DNA\n",
    "init(self, string)\n",
    "def count_nucleotides(self):\n",
    "сколько аденинов, тиминов и тд\n",
    "возвращает словарь: {'A': count_a, ...}\n",
    "\n",
    "def transcribe(self): вернуть строку, прямая, поменять все Т на У\n",
    "\n",
    "def complement_dna(self) - str\n",
    "\n",
    "def hamming_distance(self, str1, str2):\n",
    "--int количество несовпадающих символов"
   ]
  },
  {
   "cell_type": "code",
   "execution_count": 15,
   "metadata": {},
   "outputs": [],
   "source": [
    "class DNA:\n",
    "    def __init__(self, seq1, seq2=''):\n",
    "        self.seq1, self.seq2 = seq1, seq2\n",
    "\n",
    "    def count_nucleotides(self):\n",
    "        A, T, G, C = (self.seq1.count('A'), self.seq1.count('T'),\n",
    "            self.seq1.count('G'), self.seq1.count('C'))\n",
    "        d = {'A': A, 'T': T, 'G': G, 'C': C}\n",
    "        return d\n",
    "        \n",
    "    def transcribe(self):\n",
    "        return self.seq1.replace('T', 'U')\n",
    "    \n",
    "    def complement_dna(self):\n",
    "        def apply(x):\n",
    "            if x == 'A':\n",
    "                x = 'T'\n",
    "            elif x == 'T':\n",
    "                x = 'A'\n",
    "            elif x == 'C':\n",
    "                x = 'G'\n",
    "            else:\n",
    "                x = 'C'\n",
    "            return x\n",
    "        \n",
    "        listochek = list(map(apply, self.seq1))\n",
    "        return ''.join(listochek)\n",
    "    \n",
    "    def hamming_distance(self):\n",
    "        def counter(p, n):\n",
    "            if p != n:\n",
    "                return 1\n",
    "            return 0\n",
    "        \n",
    "        symbs = list(map(counter, self.seq1, self.seq2))\n",
    "        return sum(symbs)\n",
    "        \n",
    "        \n",
    "        \n",
    "    \n",
    "    "
   ]
  },
  {
   "cell_type": "markdown",
   "metadata": {},
   "source": [
    "'ACTGGCATTGACTTG'\n",
    "'ACAGGCAGTGACTAG'   3"
   ]
  },
  {
   "cell_type": "code",
   "execution_count": 16,
   "metadata": {},
   "outputs": [
    {
     "name": "stdout",
     "output_type": "stream",
     "text": [
      "{'A': 3, 'T': 5, 'G': 4, 'C': 3}\n"
     ]
    }
   ],
   "source": [
    "dna1 = DNA('ACTGGCATTGACTTG')\n",
    "print(dna1.count_nucleotides())"
   ]
  },
  {
   "cell_type": "code",
   "execution_count": 17,
   "metadata": {},
   "outputs": [
    {
     "name": "stdout",
     "output_type": "stream",
     "text": [
      "ACUGGCAUUGACUUG\n"
     ]
    }
   ],
   "source": [
    "print(dna1.transcribe())"
   ]
  },
  {
   "cell_type": "code",
   "execution_count": 18,
   "metadata": {},
   "outputs": [
    {
     "name": "stdout",
     "output_type": "stream",
     "text": [
      "TGACCGTAACTGAAC\n"
     ]
    }
   ],
   "source": [
    "print(dna1.complement_dna())"
   ]
  },
  {
   "cell_type": "code",
   "execution_count": 19,
   "metadata": {},
   "outputs": [
    {
     "name": "stdout",
     "output_type": "stream",
     "text": [
      "3\n"
     ]
    }
   ],
   "source": [
    "dna2 = DNA('ACTGGCATTGACTTG', 'ACAGGCAGTGACTAG')\n",
    "print(dna2.hamming_distance())"
   ]
  }
 ],
 "metadata": {
  "kernelspec": {
   "display_name": "base",
   "language": "python",
   "name": "python3"
  },
  "language_info": {
   "codemirror_mode": {
    "name": "ipython",
    "version": 3
   },
   "file_extension": ".py",
   "mimetype": "text/x-python",
   "name": "python",
   "nbconvert_exporter": "python",
   "pygments_lexer": "ipython3",
   "version": "3.11.4"
  },
  "orig_nbformat": 4
 },
 "nbformat": 4,
 "nbformat_minor": 2
}
