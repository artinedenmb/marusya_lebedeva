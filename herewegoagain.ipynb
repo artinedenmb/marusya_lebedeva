{
 "cells": [
  {
   "cell_type": "code",
   "execution_count": 1,
   "metadata": {},
   "outputs": [],
   "source": [
    "import matplotlib.pyplot as plt"
   ]
  },
  {
   "cell_type": "code",
   "execution_count": 1,
   "metadata": {},
   "outputs": [],
   "source": [
    "import numpy as np"
   ]
  },
  {
   "cell_type": "code",
   "execution_count": 2,
   "metadata": {},
   "outputs": [],
   "source": [
    "import turtle"
   ]
  },
  {
   "cell_type": "markdown",
   "metadata": {},
   "source": [
    "turtle.shape('turtle')\n",
    "turtle.forward(50)\n",
    "turtle.left(90)\n",
    "turtle.forward(50)\n",
    "turtle.left(90)\n",
    "turtle.forward(50)\n",
    "turtle.right(90)\n",
    "turtle.forward(50)\n",
    "turtle.right(90)\n",
    "turtle.forward(50)\n",
    "turtle.end_fill()\n",
    "\n"
   ]
  },
  {
   "cell_type": "markdown",
   "metadata": {},
   "source": [
    "turtle.bye()"
   ]
  },
  {
   "cell_type": "markdown",
   "metadata": {},
   "source": [
    "turtle.shape('turtle')\n",
    "turtle.forward(50)\n",
    "turtle.left(90)\n",
    "turtle.forward(50)\n",
    "turtle.left(90)\n",
    "turtle.forward(50)\n",
    "turtle.left(90)\n",
    "turtle.forward(50)\n",
    "turtle.exitonclick()"
   ]
  },
  {
   "cell_type": "markdown",
   "metadata": {},
   "source": [
    "2.копи паст букавки"
   ]
  },
  {
   "cell_type": "code",
   "execution_count": 9,
   "metadata": {},
   "outputs": [],
   "source": [
    "turtle.shape('turtle')\n",
    "turtle.forward(50)\n",
    "turtle.left(90)\n",
    "turtle.forward(50)\n",
    "turtle.left(90)\n",
    "turtle.forward(50)\n",
    "turtle.right(90)\n",
    "turtle.forward(50)\n",
    "turtle.right(90)\n",
    "turtle.forward(50)\n",
    "turtle.exitonclick()"
   ]
  },
  {
   "cell_type": "markdown",
   "metadata": {},
   "source": [
    "4.кружочек"
   ]
  },
  {
   "cell_type": "code",
   "execution_count": 3,
   "metadata": {},
   "outputs": [],
   "source": [
    "pen = turtle.Turtle()\n",
    "pen.circle(50)\n",
    "turtle.exitonclick()"
   ]
  },
  {
   "cell_type": "markdown",
   "metadata": {},
   "source": [
    "3.квадратик"
   ]
  },
  {
   "cell_type": "code",
   "execution_count": 5,
   "metadata": {},
   "outputs": [],
   "source": [
    "turtle.forward(50)\n",
    "turtle.left(90)\n",
    "turtle.forward(50)\n",
    "turtle.left(90)\n",
    "turtle.forward(50)\n",
    "turtle.left(90)\n",
    "turtle.forward(50)\n",
    "turtle.exitonclick()"
   ]
  },
  {
   "cell_type": "markdown",
   "metadata": {},
   "source": [
    "5.много квадратиков"
   ]
  },
  {
   "cell_type": "code",
   "execution_count": 11,
   "metadata": {},
   "outputs": [],
   "source": [
    "for i in range(10, 110, 10):\n",
    "    turtle.forward(i*2)\n",
    "    turtle.left(90)\n",
    "    turtle.forward(i*2)\n",
    "    turtle.left(90)\n",
    "    turtle.forward(i*2)\n",
    "    turtle.left(90)\n",
    "    turtle.forward(i*2)\n",
    "    turtle.penup()\n",
    "    turtle.forward(10)\n",
    "    turtle.right(90)\n",
    "    turtle.forward(10)\n",
    "    turtle.right(90)\n",
    "    turtle.pendown()\n",
    "    turtle.right(90)\n",
    "turtle.exitonclick()"
   ]
  },
  {
   "cell_type": "markdown",
   "metadata": {},
   "source": [
    "10.цветочек"
   ]
  },
  {
   "cell_type": "code",
   "execution_count": 17,
   "metadata": {},
   "outputs": [],
   "source": [
    "turtle.speed(20)\n",
    "for j in 1,2,3:\n",
    "    for i in range(45):\n",
    "        turtle.forward(10)\n",
    "        turtle.left(8)\n",
    "    for i in range(45):\n",
    "        turtle.forward(10)\n",
    "        turtle.right(8)\n",
    "    turtle.left(60)\n",
    "turtle.exitonclick()"
   ]
  },
  {
   "cell_type": "markdown",
   "metadata": {},
   "source": [
    "11.баттерфляйчиком туда обратно"
   ]
  },
  {
   "cell_type": "code",
   "execution_count": 21,
   "metadata": {},
   "outputs": [],
   "source": [
    "#butterfly\n",
    "n=int(input())\n",
    "import turtle\n",
    "turtle.shape('turtle')\n",
    "turtle.speed(20)\n",
    "for i in range (1, n+1):\n",
    "    turtle.circle(10+i**2)\n",
    "    turtle.right(180)\n",
    "    turtle.circle(10+i**2)\n",
    "    turtle.right(180)\n",
    "turtle.exitonclick()"
   ]
  },
  {
   "cell_type": "markdown",
   "metadata": {},
   "source": [
    "13.моя интерпретация лучшего смайла"
   ]
  },
  {
   "cell_type": "code",
   "execution_count": 24,
   "metadata": {},
   "outputs": [],
   "source": [
    "turtle.goto(0,0)\n",
    "turtle.color(\"green\")\n",
    "turtle.begin_fill()\n",
    "turtle.circle(100)\n",
    "turtle.end_fill()\n",
    "\n",
    "turtle.goto(-30,100)\n",
    "turtle.color(\"red\")\n",
    "turtle.begin_fill()\n",
    "turtle.circle(20)\n",
    "turtle.end_fill()\n",
    "\n",
    "turtle.penup()\n",
    "turtle.goto(30,100)\n",
    "turtle.pendown()\n",
    "turtle.color(\"red\")\n",
    "turtle.begin_fill()\n",
    "turtle.circle(20)\n",
    "turtle.end_fill()\n",
    "\n",
    "turtle.penup()\n",
    "turtle.goto(0,75)\n",
    "turtle.pendown()\n",
    "turtle.color(\"#9ACD32\")\n",
    "turtle.width(10)\n",
    "turtle.goto(-10,60)\n",
    "turtle.penup()\n",
    "\n",
    "turtle.goto(-20,40)\n",
    "turtle.color(\"#808000\")\n",
    "turtle.width(10)\n",
    "turtle.pendown()\n",
    "turtle.goto(20,40)\n",
    "\n",
    "\n",
    "turtle.exitonclick()"
   ]
  },
  {
   "cell_type": "markdown",
   "metadata": {},
   "source": [
    "6.ага, и вы биологу говорите, что это паук?"
   ]
  },
  {
   "cell_type": "code",
   "execution_count": 26,
   "metadata": {},
   "outputs": [],
   "source": [
    "cnt = int(input())\n",
    "for i in range (cnt):\n",
    "    turtle.forward(60)\n",
    "    turtle.stamp()\n",
    "    turtle.right(180)\n",
    "    turtle.forward(60)\n",
    "    turtle.right(180 - 360/cnt)\n",
    "turtle.exitonclick()"
   ]
  },
  {
   "cell_type": "markdown",
   "metadata": {},
   "source": [
    "14.небо сегодня звездное, луна сегодня красивая"
   ]
  },
  {
   "cell_type": "code",
   "execution_count": 33,
   "metadata": {},
   "outputs": [
    {
     "ename": "Terminator",
     "evalue": "",
     "output_type": "error",
     "traceback": [
      "\u001b[0;31m---------------------------------------------------------------------------\u001b[0m",
      "\u001b[0;31mTerminator\u001b[0m                                Traceback (most recent call last)",
      "\u001b[1;32m/Users/maria/Documents/marusya_lebedeva/herewegoagain.ipynb Cell 24\u001b[0m line \u001b[0;36m8\n\u001b[1;32m      <a href='vscode-notebook-cell:/Users/maria/Documents/marusya_lebedeva/herewegoagain.ipynb#X20sZmlsZQ%3D%3D?line=5'>6</a>\u001b[0m turtle\u001b[39m.\u001b[39mpendown()\n\u001b[1;32m      <a href='vscode-notebook-cell:/Users/maria/Documents/marusya_lebedeva/herewegoagain.ipynb#X20sZmlsZQ%3D%3D?line=6'>7</a>\u001b[0m \u001b[39mfor\u001b[39;00m i \u001b[39min\u001b[39;00m \u001b[39mrange\u001b[39m (\u001b[39m11\u001b[39m):\n\u001b[0;32m----> <a href='vscode-notebook-cell:/Users/maria/Documents/marusya_lebedeva/herewegoagain.ipynb#X20sZmlsZQ%3D%3D?line=7'>8</a>\u001b[0m     turtle\u001b[39m.\u001b[39mright(\u001b[39m180\u001b[39m\u001b[39m-\u001b[39m\u001b[39m180\u001b[39m\u001b[39m/\u001b[39m\u001b[39m11\u001b[39m)\n\u001b[1;32m      <a href='vscode-notebook-cell:/Users/maria/Documents/marusya_lebedeva/herewegoagain.ipynb#X20sZmlsZQ%3D%3D?line=8'>9</a>\u001b[0m     turtle\u001b[39m.\u001b[39mfd(\u001b[39m100\u001b[39m)\n\u001b[1;32m     <a href='vscode-notebook-cell:/Users/maria/Documents/marusya_lebedeva/herewegoagain.ipynb#X20sZmlsZQ%3D%3D?line=9'>10</a>\u001b[0m turtle\u001b[39m.\u001b[39mexitonclick()\n",
      "File \u001b[0;32m<string>:8\u001b[0m, in \u001b[0;36mright\u001b[0;34m(angle)\u001b[0m\n",
      "File \u001b[0;32m~/anaconda3/lib/python3.11/turtle.py:1679\u001b[0m, in \u001b[0;36mTNavigator.right\u001b[0;34m(self, angle)\u001b[0m\n\u001b[1;32m   1660\u001b[0m \u001b[39mdef\u001b[39;00m \u001b[39mright\u001b[39m(\u001b[39mself\u001b[39m, angle):\n\u001b[1;32m   1661\u001b[0m \u001b[39m    \u001b[39m\u001b[39m\"\"\"Turn turtle right by angle units.\u001b[39;00m\n\u001b[1;32m   1662\u001b[0m \n\u001b[1;32m   1663\u001b[0m \u001b[39m    Aliases: right | rt\u001b[39;00m\n\u001b[0;32m   (...)\u001b[0m\n\u001b[1;32m   1677\u001b[0m \u001b[39m    337.0\u001b[39;00m\n\u001b[1;32m   1678\u001b[0m \u001b[39m    \"\"\"\u001b[39;00m\n\u001b[0;32m-> 1679\u001b[0m     \u001b[39mself\u001b[39m\u001b[39m.\u001b[39m_rotate(\u001b[39m-\u001b[39mangle)\n",
      "File \u001b[0;32m~/anaconda3/lib/python3.11/turtle.py:3293\u001b[0m, in \u001b[0;36mRawTurtle._rotate\u001b[0;34m(self, angle)\u001b[0m\n\u001b[1;32m   3291\u001b[0m     \u001b[39mfor\u001b[39;00m _ \u001b[39min\u001b[39;00m \u001b[39mrange\u001b[39m(steps):\n\u001b[1;32m   3292\u001b[0m         \u001b[39mself\u001b[39m\u001b[39m.\u001b[39m_orient \u001b[39m=\u001b[39m \u001b[39mself\u001b[39m\u001b[39m.\u001b[39m_orient\u001b[39m.\u001b[39mrotate(delta)\n\u001b[0;32m-> 3293\u001b[0m         \u001b[39mself\u001b[39m\u001b[39m.\u001b[39m_update()\n\u001b[1;32m   3294\u001b[0m \u001b[39mself\u001b[39m\u001b[39m.\u001b[39m_orient \u001b[39m=\u001b[39m neworient\n\u001b[1;32m   3295\u001b[0m \u001b[39mself\u001b[39m\u001b[39m.\u001b[39m_update()\n",
      "File \u001b[0;32m~/anaconda3/lib/python3.11/turtle.py:2661\u001b[0m, in \u001b[0;36mRawTurtle._update\u001b[0;34m(self)\u001b[0m\n\u001b[1;32m   2659\u001b[0m     \u001b[39mreturn\u001b[39;00m\n\u001b[1;32m   2660\u001b[0m \u001b[39melif\u001b[39;00m screen\u001b[39m.\u001b[39m_tracing \u001b[39m==\u001b[39m \u001b[39m1\u001b[39m:\n\u001b[0;32m-> 2661\u001b[0m     \u001b[39mself\u001b[39m\u001b[39m.\u001b[39m_update_data()\n\u001b[1;32m   2662\u001b[0m     \u001b[39mself\u001b[39m\u001b[39m.\u001b[39m_drawturtle()\n\u001b[1;32m   2663\u001b[0m     screen\u001b[39m.\u001b[39m_update()                  \u001b[39m# TurtleScreenBase\u001b[39;00m\n",
      "File \u001b[0;32m~/anaconda3/lib/python3.11/turtle.py:2647\u001b[0m, in \u001b[0;36mRawTurtle._update_data\u001b[0;34m(self)\u001b[0m\n\u001b[1;32m   2646\u001b[0m \u001b[39mdef\u001b[39;00m \u001b[39m_update_data\u001b[39m(\u001b[39mself\u001b[39m):\n\u001b[0;32m-> 2647\u001b[0m     \u001b[39mself\u001b[39m\u001b[39m.\u001b[39mscreen\u001b[39m.\u001b[39m_incrementudc()\n\u001b[1;32m   2648\u001b[0m     \u001b[39mif\u001b[39;00m \u001b[39mself\u001b[39m\u001b[39m.\u001b[39mscreen\u001b[39m.\u001b[39m_updatecounter \u001b[39m!=\u001b[39m \u001b[39m0\u001b[39m:\n\u001b[1;32m   2649\u001b[0m         \u001b[39mreturn\u001b[39;00m\n",
      "File \u001b[0;32m~/anaconda3/lib/python3.11/turtle.py:1293\u001b[0m, in \u001b[0;36mTurtleScreen._incrementudc\u001b[0;34m(self)\u001b[0m\n\u001b[1;32m   1291\u001b[0m \u001b[39mif\u001b[39;00m \u001b[39mnot\u001b[39;00m TurtleScreen\u001b[39m.\u001b[39m_RUNNING:\n\u001b[1;32m   1292\u001b[0m     TurtleScreen\u001b[39m.\u001b[39m_RUNNING \u001b[39m=\u001b[39m \u001b[39mTrue\u001b[39;00m\n\u001b[0;32m-> 1293\u001b[0m     \u001b[39mraise\u001b[39;00m Terminator\n\u001b[1;32m   1294\u001b[0m \u001b[39mif\u001b[39;00m \u001b[39mself\u001b[39m\u001b[39m.\u001b[39m_tracing \u001b[39m>\u001b[39m \u001b[39m0\u001b[39m:\n\u001b[1;32m   1295\u001b[0m     \u001b[39mself\u001b[39m\u001b[39m.\u001b[39m_updatecounter \u001b[39m+\u001b[39m\u001b[39m=\u001b[39m \u001b[39m1\u001b[39m\n",
      "\u001b[0;31mTerminator\u001b[0m: "
     ]
    }
   ],
   "source": [
    "for i in range (5):\n",
    "    turtle.right(180-180/5)\n",
    "    turtle.fd(100)\n",
    "turtle.penup()\n",
    "turtle.goto(100,100)\n",
    "turtle.pendown()\n",
    "for i in range (11):\n",
    "    turtle.right(180-180/11)\n",
    "    turtle.fd(100)\n",
    "turtle.exitonclick()"
   ]
  },
  {
   "cell_type": "markdown",
   "metadata": {},
   "source": [
    "9.много многоугольников"
   ]
  },
  {
   "cell_type": "code",
   "execution_count": 42,
   "metadata": {},
   "outputs": [],
   "source": [
    "turtle.goto(0,0)\n",
    "for i in range (3,13):\n",
    "    turtle.left(90+180/i)\n",
    "    turtle.forward(2*(20*(i-2))*np.sin(3.14/i))\n",
    "    for j in range(i-1):\n",
    "        turtle.left(360/i)\n",
    "        turtle.forward(2*(20*(i-2))*np.sin(3.14/i))\n",
    "    turtle.penup()\n",
    "    turtle.goto(20*(i-2),0)\n",
    "    turtle.pendown()\n",
    "    turtle.right(90-180/i)\n",
    "turtle.exitonclick()"
   ]
  },
  {
   "cell_type": "markdown",
   "metadata": {},
   "source": [
    "8.спираль в египетской стилистике"
   ]
  },
  {
   "cell_type": "code",
   "execution_count": 46,
   "metadata": {},
   "outputs": [],
   "source": [
    "for i in range (10, 150, 10):\n",
    "    turtle.forward(i)\n",
    "    turtle.left(90)\n",
    "turtle.exitonclick()"
   ]
  },
  {
   "cell_type": "markdown",
   "metadata": {},
   "source": [
    "7.рулетик-улитка с корицей"
   ]
  },
  {
   "cell_type": "code",
   "execution_count": 48,
   "metadata": {},
   "outputs": [],
   "source": [
    "from math import pi, sin, cos\n",
    "\n",
    "\n",
    "for i in range(200):\n",
    "    t = i / 10 * pi\n",
    "    dx = t * cos(t)\n",
    "    dy = t * sin(t)\n",
    "    turtle.goto(dx, dy)\n",
    "\n",
    "turtle.exitonclick()"
   ]
  },
  {
   "cell_type": "markdown",
   "metadata": {},
   "source": [
    "12.пружина"
   ]
  },
  {
   "cell_type": "code",
   "execution_count": 52,
   "metadata": {},
   "outputs": [],
   "source": [
    "turtle.speed(20)\n",
    "turtle.penup()\n",
    "turtle.goto(-200,0)\n",
    "turtle.pendown()\n",
    "turtle.left(90)\n",
    "for j in range(1,5):\n",
    "    for i in range(60):\n",
    "        turtle.forward(3)\n",
    "        turtle.right(3)\n",
    "    for i in range(60):\n",
    "        turtle.forward(0.5)\n",
    "        turtle.right(3)\n",
    "turtle.exitonclick()"
   ]
  }
 ],
 "metadata": {
  "kernelspec": {
   "display_name": "mipt_practice",
   "language": "python",
   "name": "python3"
  },
  "language_info": {
   "codemirror_mode": {
    "name": "ipython",
    "version": 3
   },
   "file_extension": ".py",
   "mimetype": "text/x-python",
   "name": "python",
   "nbconvert_exporter": "python",
   "pygments_lexer": "ipython3",
   "version": "3.11.4"
  },
  "orig_nbformat": 4
 },
 "nbformat": 4,
 "nbformat_minor": 2
}
