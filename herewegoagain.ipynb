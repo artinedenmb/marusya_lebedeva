{
 "cells": [
  {
   "cell_type": "code",
   "execution_count": 1,
   "metadata": {},
   "outputs": [],
   "source": [
    "import matplotlib.pyplot as plt"
   ]
  },
  {
   "cell_type": "code",
   "execution_count": 7,
   "metadata": {},
   "outputs": [],
   "source": [
    "import numpy as np"
   ]
  },
  {
   "cell_type": "code",
   "execution_count": 8,
   "metadata": {},
   "outputs": [],
   "source": [
    "import turtle"
   ]
  },
  {
   "cell_type": "markdown",
   "metadata": {},
   "source": [
    "turtle.shape('turtle')\n",
    "turtle.forward(50)\n",
    "turtle.left(90)\n",
    "turtle.forward(50)\n",
    "turtle.left(90)\n",
    "turtle.forward(50)\n",
    "turtle.right(90)\n",
    "turtle.forward(50)\n",
    "turtle.right(90)\n",
    "turtle.forward(50)\n",
    "turtle.end_fill()\n",
    "\n"
   ]
  },
  {
   "cell_type": "markdown",
   "metadata": {},
   "source": [
    "turtle.bye()"
   ]
  },
  {
   "cell_type": "markdown",
   "metadata": {},
   "source": [
    "turtle.shape('turtle')\n",
    "turtle.forward(50)\n",
    "turtle.left(90)\n",
    "turtle.forward(50)\n",
    "turtle.left(90)\n",
    "turtle.forward(50)\n",
    "turtle.left(90)\n",
    "turtle.forward(50)\n",
    "turtle.exitonclick()"
   ]
  },
  {
   "cell_type": "code",
   "execution_count": 4,
   "metadata": {},
   "outputs": [],
   "source": [
    "pen = turtle.Turtle()\n",
    "pen.circle(50)\n",
    "turtle.exitonclick()"
   ]
  },
  {
   "cell_type": "code",
   "execution_count": 3,
   "metadata": {},
   "outputs": [
    {
     "ename": "",
     "evalue": "",
     "output_type": "error",
     "traceback": [
      "\u001b[1;31mCannot execute code, session has been disposed. Please try restarting the Kernel."
     ]
    },
    {
     "ename": "",
     "evalue": "",
     "output_type": "error",
     "traceback": [
      "\u001b[1;31mThe Kernel crashed while executing code in the the current cell or a previous cell. Please review the code in the cell(s) to identify a possible cause of the failure. Click <a href='https://aka.ms/vscodeJupyterKernelCrash'>here</a> for more info. View Jupyter <a href='command:jupyter.viewOutput'>log</a> for further details."
     ]
    }
   ],
   "source": [
    "turtle.forward(50)\n",
    "turtle.left(90)\n",
    "turtle.forward(50)\n",
    "turtle.left(90)\n",
    "turtle.forward(50)\n",
    "turtle.left(90)\n",
    "turtle.forward(50)\n",
    "turtle.exitonclick()"
   ]
  },
  {
   "cell_type": "code",
   "execution_count": 2,
   "metadata": {},
   "outputs": [
    {
     "ename": "",
     "evalue": "",
     "output_type": "error",
     "traceback": [
      "\u001b[1;31mCannot execute code, session has been disposed. Please try restarting the Kernel."
     ]
    },
    {
     "ename": "",
     "evalue": "",
     "output_type": "error",
     "traceback": [
      "\u001b[1;31mThe Kernel crashed while executing code in the the current cell or a previous cell. Please review the code in the cell(s) to identify a possible cause of the failure. Click <a href='https://aka.ms/vscodeJupyterKernelCrash'>here</a> for more info. View Jupyter <a href='command:jupyter.viewOutput'>log</a> for further details."
     ]
    }
   ],
   "source": [
    "for i in range(10, 110, 10):\n",
    "    turtle.forward(i*2)\n",
    "    turtle.left(90)\n",
    "    turtle.forward(i*2)\n",
    "    turtle.left(90)\n",
    "    turtle.forward(i*2)\n",
    "    turtle.left(90)\n",
    "    turtle.forward(i*2)\n",
    "    turtle.penup()\n",
    "    turtle.forward(10)\n",
    "    turtle.right(90)\n",
    "    turtle.forward(10)\n",
    "    turtle.right(90)\n",
    "    turtle.pendown()\n",
    "    turtle.right(90)\n",
    "turtle.exitonclick()"
   ]
  },
  {
   "cell_type": "code",
   "execution_count": 7,
   "metadata": {},
   "outputs": [
    {
     "ename": "KeyboardInterrupt",
     "evalue": "",
     "output_type": "error",
     "traceback": [
      "\u001b[0;31m---------------------------------------------------------------------------\u001b[0m",
      "\u001b[0;31mKeyboardInterrupt\u001b[0m                         Traceback (most recent call last)",
      "Cell \u001b[0;32mIn[7], line 9\u001b[0m\n\u001b[1;32m      7\u001b[0m turtle\u001b[39m.\u001b[39mright(\u001b[39m180\u001b[39m)\n\u001b[1;32m      8\u001b[0m \u001b[39mfor\u001b[39;00m j \u001b[39min\u001b[39;00m \u001b[39mrange\u001b[39m (\u001b[39m180\u001b[39m):\n\u001b[0;32m----> 9\u001b[0m   turtle\u001b[39m.\u001b[39mforward(\u001b[39m2\u001b[39m)\n\u001b[1;32m     10\u001b[0m   turtle\u001b[39m.\u001b[39mleft(\u001b[39m2\u001b[39m)\n\u001b[1;32m     11\u001b[0m turtle\u001b[39m.\u001b[39mright(\u001b[39m360\u001b[39m\u001b[39m/\u001b[39mn)\n",
      "File \u001b[0;32m<string>:8\u001b[0m, in \u001b[0;36mforward\u001b[0;34m(distance)\u001b[0m\n",
      "File \u001b[0;32m~/anaconda3/lib/python3.11/turtle.py:1638\u001b[0m, in \u001b[0;36mTNavigator.forward\u001b[0;34m(self, distance)\u001b[0m\n\u001b[1;32m   1617\u001b[0m \u001b[39mdef\u001b[39;00m \u001b[39mforward\u001b[39m(\u001b[39mself\u001b[39m, distance):\n\u001b[1;32m   1618\u001b[0m \u001b[39m    \u001b[39m\u001b[39m\"\"\"Move the turtle forward by the specified distance.\u001b[39;00m\n\u001b[1;32m   1619\u001b[0m \n\u001b[1;32m   1620\u001b[0m \u001b[39m    Aliases: forward | fd\u001b[39;00m\n\u001b[0;32m   (...)\u001b[0m\n\u001b[1;32m   1636\u001b[0m \u001b[39m    (-50.00,0.00)\u001b[39;00m\n\u001b[1;32m   1637\u001b[0m \u001b[39m    \"\"\"\u001b[39;00m\n\u001b[0;32m-> 1638\u001b[0m     \u001b[39mself\u001b[39m\u001b[39m.\u001b[39m_go(distance)\n",
      "File \u001b[0;32m~/anaconda3/lib/python3.11/turtle.py:1606\u001b[0m, in \u001b[0;36mTNavigator._go\u001b[0;34m(self, distance)\u001b[0m\n\u001b[1;32m   1604\u001b[0m \u001b[39m\u001b[39m\u001b[39m\"\"\"move turtle forward by specified distance\"\"\"\u001b[39;00m\n\u001b[1;32m   1605\u001b[0m ende \u001b[39m=\u001b[39m \u001b[39mself\u001b[39m\u001b[39m.\u001b[39m_position \u001b[39m+\u001b[39m \u001b[39mself\u001b[39m\u001b[39m.\u001b[39m_orient \u001b[39m*\u001b[39m distance\n\u001b[0;32m-> 1606\u001b[0m \u001b[39mself\u001b[39m\u001b[39m.\u001b[39m_goto(ende)\n",
      "File \u001b[0;32m~/anaconda3/lib/python3.11/turtle.py:3212\u001b[0m, in \u001b[0;36mRawTurtle._goto\u001b[0;34m(self, end)\u001b[0m\n\u001b[1;32m   3209\u001b[0m \u001b[39mif\u001b[39;00m \u001b[39mlen\u001b[39m(\u001b[39mself\u001b[39m\u001b[39m.\u001b[39mcurrentLine) \u001b[39m>\u001b[39m \u001b[39m42\u001b[39m: \u001b[39m# 42! answer to the ultimate question\u001b[39;00m\n\u001b[1;32m   3210\u001b[0m                                \u001b[39m# of life, the universe and everything\u001b[39;00m\n\u001b[1;32m   3211\u001b[0m     \u001b[39mself\u001b[39m\u001b[39m.\u001b[39m_newLine()\n\u001b[0;32m-> 3212\u001b[0m \u001b[39mself\u001b[39m\u001b[39m.\u001b[39m_update()\n",
      "File \u001b[0;32m~/anaconda3/lib/python3.11/turtle.py:2664\u001b[0m, in \u001b[0;36mRawTurtle._update\u001b[0;34m(self)\u001b[0m\n\u001b[1;32m   2662\u001b[0m     \u001b[39mself\u001b[39m\u001b[39m.\u001b[39m_drawturtle()\n\u001b[1;32m   2663\u001b[0m     screen\u001b[39m.\u001b[39m_update()                  \u001b[39m# TurtleScreenBase\u001b[39;00m\n\u001b[0;32m-> 2664\u001b[0m     screen\u001b[39m.\u001b[39m_delay(screen\u001b[39m.\u001b[39m_delayvalue) \u001b[39m# TurtleScreenBase\u001b[39;00m\n\u001b[1;32m   2665\u001b[0m \u001b[39melse\u001b[39;00m:\n\u001b[1;32m   2666\u001b[0m     \u001b[39mself\u001b[39m\u001b[39m.\u001b[39m_update_data()\n",
      "File \u001b[0;32m~/anaconda3/lib/python3.11/turtle.py:566\u001b[0m, in \u001b[0;36mTurtleScreenBase._delay\u001b[0;34m(self, delay)\u001b[0m\n\u001b[1;32m    564\u001b[0m \u001b[39mdef\u001b[39;00m \u001b[39m_delay\u001b[39m(\u001b[39mself\u001b[39m, delay):\n\u001b[1;32m    565\u001b[0m \u001b[39m    \u001b[39m\u001b[39m\"\"\"Delay subsequent canvas actions for delay ms.\"\"\"\u001b[39;00m\n\u001b[0;32m--> 566\u001b[0m     \u001b[39mself\u001b[39m\u001b[39m.\u001b[39mcv\u001b[39m.\u001b[39mafter(delay)\n",
      "File \u001b[0;32m~/anaconda3/lib/python3.11/tkinter/__init__.py:856\u001b[0m, in \u001b[0;36mMisc.after\u001b[0;34m(self, ms, func, *args)\u001b[0m\n\u001b[1;32m    848\u001b[0m \u001b[39m\u001b[39m\u001b[39m\"\"\"Call function once after given time.\u001b[39;00m\n\u001b[1;32m    849\u001b[0m \n\u001b[1;32m    850\u001b[0m \u001b[39mMS specifies the time in milliseconds. FUNC gives the\u001b[39;00m\n\u001b[1;32m    851\u001b[0m \u001b[39mfunction which shall be called. Additional parameters\u001b[39;00m\n\u001b[1;32m    852\u001b[0m \u001b[39mare given as parameters to the function call.  Return\u001b[39;00m\n\u001b[1;32m    853\u001b[0m \u001b[39midentifier to cancel scheduling with after_cancel.\"\"\"\u001b[39;00m\n\u001b[1;32m    854\u001b[0m \u001b[39mif\u001b[39;00m func \u001b[39mis\u001b[39;00m \u001b[39mNone\u001b[39;00m:\n\u001b[1;32m    855\u001b[0m     \u001b[39m# I'd rather use time.sleep(ms*0.001)\u001b[39;00m\n\u001b[0;32m--> 856\u001b[0m     \u001b[39mself\u001b[39m\u001b[39m.\u001b[39mtk\u001b[39m.\u001b[39mcall(\u001b[39m'\u001b[39m\u001b[39mafter\u001b[39m\u001b[39m'\u001b[39m, ms)\n\u001b[1;32m    857\u001b[0m     \u001b[39mreturn\u001b[39;00m \u001b[39mNone\u001b[39;00m\n\u001b[1;32m    858\u001b[0m \u001b[39melse\u001b[39;00m:\n",
      "\u001b[0;31mKeyboardInterrupt\u001b[0m: "
     ]
    }
   ],
   "source": [
    "num = int(input())\n",
    "turtle.shape('turtle')\n",
    "for i in range (num):\n",
    "    for j in range (180):\n",
    "     turtle.forward(2)\n",
    "     turtle.left(2)\n",
    "    turtle.right(180)\n",
    "    for j in range (180):\n",
    "      turtle.forward(2)\n",
    "      turtle.left(2)\n",
    "    turtle.right(360/n)\n",
    "turtle.exitonclick()"
   ]
  },
  {
   "cell_type": "code",
   "execution_count": 8,
   "metadata": {},
   "outputs": [
    {
     "ename": "Terminator",
     "evalue": "",
     "output_type": "error",
     "traceback": [
      "\u001b[0;31m---------------------------------------------------------------------------\u001b[0m",
      "\u001b[0;31mTclError\u001b[0m                                  Traceback (most recent call last)",
      "File \u001b[0;32m<string>:8\u001b[0m, in \u001b[0;36mcircle\u001b[0;34m(radius, extent, steps)\u001b[0m\n",
      "File \u001b[0;32m~/anaconda3/lib/python3.11/turtle.py:1992\u001b[0m, in \u001b[0;36mTNavigator.circle\u001b[0;34m(self, radius, extent, steps)\u001b[0m\n\u001b[1;32m   1991\u001b[0m \u001b[39mself\u001b[39m\u001b[39m.\u001b[39mspeed(speed)\n\u001b[0;32m-> 1992\u001b[0m \u001b[39mself\u001b[39m\u001b[39m.\u001b[39m_go(l)\n\u001b[1;32m   1993\u001b[0m \u001b[39mself\u001b[39m\u001b[39m.\u001b[39mspeed(\u001b[39m0\u001b[39m)\n",
      "File \u001b[0;32m~/anaconda3/lib/python3.11/turtle.py:1606\u001b[0m, in \u001b[0;36mTNavigator._go\u001b[0;34m(self, distance)\u001b[0m\n\u001b[1;32m   1605\u001b[0m ende \u001b[39m=\u001b[39m \u001b[39mself\u001b[39m\u001b[39m.\u001b[39m_position \u001b[39m+\u001b[39m \u001b[39mself\u001b[39m\u001b[39m.\u001b[39m_orient \u001b[39m*\u001b[39m distance\n\u001b[0;32m-> 1606\u001b[0m \u001b[39mself\u001b[39m\u001b[39m.\u001b[39m_goto(ende)\n",
      "File \u001b[0;32m~/anaconda3/lib/python3.11/turtle.py:3175\u001b[0m, in \u001b[0;36mRawTurtle._goto\u001b[0;34m(self, end)\u001b[0m\n\u001b[1;32m   3171\u001b[0m screen \u001b[39m=\u001b[39m \u001b[39mself\u001b[39m\u001b[39m.\u001b[39mscreen\n\u001b[1;32m   3172\u001b[0m undo_entry \u001b[39m=\u001b[39m (\u001b[39m\"\u001b[39m\u001b[39mgo\u001b[39m\u001b[39m\"\u001b[39m, \u001b[39mself\u001b[39m\u001b[39m.\u001b[39m_position, end, go_modes,\n\u001b[1;32m   3173\u001b[0m               (\u001b[39mself\u001b[39m\u001b[39m.\u001b[39mcurrentLineItem,\n\u001b[1;32m   3174\u001b[0m               \u001b[39mself\u001b[39m\u001b[39m.\u001b[39mcurrentLine[:],\n\u001b[0;32m-> 3175\u001b[0m               screen\u001b[39m.\u001b[39m_pointlist(\u001b[39mself\u001b[39m\u001b[39m.\u001b[39mcurrentLineItem),\n\u001b[1;32m   3176\u001b[0m               \u001b[39mself\u001b[39m\u001b[39m.\u001b[39mitems[:])\n\u001b[1;32m   3177\u001b[0m               )\n\u001b[1;32m   3178\u001b[0m \u001b[39mif\u001b[39;00m \u001b[39mself\u001b[39m\u001b[39m.\u001b[39mundobuffer:\n",
      "File \u001b[0;32m~/anaconda3/lib/python3.11/turtle.py:754\u001b[0m, in \u001b[0;36mTurtleScreenBase._pointlist\u001b[0;34m(self, item)\u001b[0m\n\u001b[1;32m    747\u001b[0m \u001b[39m\u001b[39m\u001b[39m\"\"\"returns list of coordinate-pairs of points of item\u001b[39;00m\n\u001b[1;32m    748\u001b[0m \u001b[39mExample (for insiders):\u001b[39;00m\n\u001b[1;32m    749\u001b[0m \u001b[39m>>> from turtle import *\u001b[39;00m\n\u001b[0;32m   (...)\u001b[0m\n\u001b[1;32m    752\u001b[0m \u001b[39m(9.9999999999999982, 0.0)]\u001b[39;00m\n\u001b[1;32m    753\u001b[0m \u001b[39m>>> \"\"\"\u001b[39;00m\n\u001b[0;32m--> 754\u001b[0m cl \u001b[39m=\u001b[39m \u001b[39mself\u001b[39m\u001b[39m.\u001b[39mcv\u001b[39m.\u001b[39mcoords(item)\n\u001b[1;32m    755\u001b[0m pl \u001b[39m=\u001b[39m [(cl[i], \u001b[39m-\u001b[39mcl[i\u001b[39m+\u001b[39m\u001b[39m1\u001b[39m]) \u001b[39mfor\u001b[39;00m i \u001b[39min\u001b[39;00m \u001b[39mrange\u001b[39m(\u001b[39m0\u001b[39m, \u001b[39mlen\u001b[39m(cl), \u001b[39m2\u001b[39m)]\n",
      "File \u001b[0;32m<string>:1\u001b[0m, in \u001b[0;36mcoords\u001b[0;34m(self, *args, **kw)\u001b[0m\n",
      "File \u001b[0;32m~/anaconda3/lib/python3.11/tkinter/__init__.py:2822\u001b[0m, in \u001b[0;36mCanvas.coords\u001b[0;34m(self, *args)\u001b[0m\n\u001b[1;32m   2819\u001b[0m \u001b[39m# XXX Should use _flatten on args\u001b[39;00m\n\u001b[1;32m   2820\u001b[0m \u001b[39mreturn\u001b[39;00m [\u001b[39mself\u001b[39m\u001b[39m.\u001b[39mtk\u001b[39m.\u001b[39mgetdouble(x) \u001b[39mfor\u001b[39;00m x \u001b[39min\u001b[39;00m\n\u001b[1;32m   2821\u001b[0m                    \u001b[39mself\u001b[39m\u001b[39m.\u001b[39mtk\u001b[39m.\u001b[39msplitlist(\n\u001b[0;32m-> 2822\u001b[0m            \u001b[39mself\u001b[39m\u001b[39m.\u001b[39mtk\u001b[39m.\u001b[39mcall((\u001b[39mself\u001b[39m\u001b[39m.\u001b[39m_w, \u001b[39m'\u001b[39m\u001b[39mcoords\u001b[39m\u001b[39m'\u001b[39m) \u001b[39m+\u001b[39m args))]\n",
      "\u001b[0;31mTclError\u001b[0m: invalid command name \".!canvas\"",
      "\nDuring handling of the above exception, another exception occurred:\n",
      "\u001b[0;31mTerminator\u001b[0m                                Traceback (most recent call last)",
      "Cell \u001b[0;32mIn[8], line 5\u001b[0m\n\u001b[1;32m      3\u001b[0m turtle\u001b[39m.\u001b[39mshape(\u001b[39m'\u001b[39m\u001b[39mturtle\u001b[39m\u001b[39m'\u001b[39m)\n\u001b[1;32m      4\u001b[0m \u001b[39mfor\u001b[39;00m i \u001b[39min\u001b[39;00m \u001b[39mrange\u001b[39m (\u001b[39m1\u001b[39m, n\u001b[39m+\u001b[39m\u001b[39m1\u001b[39m):\n\u001b[0;32m----> 5\u001b[0m     turtle\u001b[39m.\u001b[39mcircle(\u001b[39m10\u001b[39m\u001b[39m+\u001b[39mi\u001b[39m*\u001b[39m\u001b[39m*\u001b[39m\u001b[39m2\u001b[39m)\n\u001b[1;32m      6\u001b[0m     turtle\u001b[39m.\u001b[39mright(\u001b[39m180\u001b[39m)\n\u001b[1;32m      7\u001b[0m     turtle\u001b[39m.\u001b[39mcircle(\u001b[39m10\u001b[39m\u001b[39m+\u001b[39mi\u001b[39m*\u001b[39m\u001b[39m*\u001b[39m\u001b[39m2\u001b[39m)\n",
      "File \u001b[0;32m<string>:12\u001b[0m, in \u001b[0;36mcircle\u001b[0;34m(radius, extent, steps)\u001b[0m\n",
      "\u001b[0;31mTerminator\u001b[0m: "
     ]
    }
   ],
   "source": [
    "#butterfly\n",
    "n=int(input())\n",
    "import turtle\n",
    "turtle.shape('turtle')\n",
    "for i in range (1, n+1):\n",
    "    turtle.circle(10+i**2)\n",
    "    turtle.right(180)\n",
    "    turtle.circle(10+i**2)\n",
    "    turtle.right(180)\n",
    "turtle.exitonclick()"
   ]
  },
  {
   "cell_type": "code",
   "execution_count": 9,
   "metadata": {},
   "outputs": [
    {
     "ename": "Terminator",
     "evalue": "",
     "output_type": "error",
     "traceback": [
      "\u001b[0;31m---------------------------------------------------------------------------\u001b[0m",
      "\u001b[0;31mTerminator\u001b[0m                                Traceback (most recent call last)",
      "Cell \u001b[0;32mIn[9], line 6\u001b[0m\n\u001b[1;32m      4\u001b[0m    turtle\u001b[39m.\u001b[39mleft(\u001b[39m1\u001b[39m)\n\u001b[1;32m      5\u001b[0m \u001b[39mfor\u001b[39;00m j \u001b[39min\u001b[39;00m \u001b[39mrange\u001b[39m (\u001b[39m180\u001b[39m):\n\u001b[0;32m----> 6\u001b[0m    turtle\u001b[39m.\u001b[39mforward(\u001b[39m1\u001b[39m)\n\u001b[1;32m      7\u001b[0m    turtle\u001b[39m.\u001b[39mleft(\u001b[39m1\u001b[39m)\n\u001b[1;32m      8\u001b[0m turtle\u001b[39m.\u001b[39mexitonclick()\n",
      "File \u001b[0;32m<string>:5\u001b[0m, in \u001b[0;36mforward\u001b[0;34m(distance)\u001b[0m\n",
      "\u001b[0;31mTerminator\u001b[0m: "
     ]
    }
   ],
   "source": [
    "turtle.shape('turtle')\n",
    "for i in range (180):\n",
    "   turtle.forward(10)\n",
    "   turtle.left(1)\n",
    "for j in range (180):\n",
    "   turtle.forward(1)\n",
    "   turtle.left(1)\n",
    "turtle.exitonclick()"
   ]
  },
  {
   "cell_type": "code",
   "execution_count": 24,
   "metadata": {},
   "outputs": [],
   "source": [
    "turtle.goto(0,0)\n",
    "turtle.color(\"green\")\n",
    "turtle.begin_fill()\n",
    "turtle.circle(100)\n",
    "turtle.end_fill()\n",
    "\n",
    "turtle.goto(-30,100)\n",
    "turtle.color(\"red\")\n",
    "turtle.begin_fill()\n",
    "turtle.circle(20)\n",
    "turtle.end_fill()\n",
    "\n",
    "turtle.penup()\n",
    "turtle.goto(30,100)\n",
    "turtle.pendown()\n",
    "turtle.color(\"red\")\n",
    "turtle.begin_fill()\n",
    "turtle.circle(20)\n",
    "turtle.end_fill()\n",
    "\n",
    "turtle.penup()\n",
    "turtle.goto(0,75)\n",
    "turtle.pendown()\n",
    "turtle.color(\"#9ACD32\")\n",
    "turtle.width(10)\n",
    "turtle.goto(-10,60)\n",
    "turtle.penup()\n",
    "\n",
    "turtle.goto(-20,40)\n",
    "turtle.color(\"#808000\")\n",
    "turtle.width(10)\n",
    "turtle.pendown()\n",
    "turtle.goto(20,40)\n",
    "\n",
    "\n",
    "turtle.exitonclick()"
   ]
  },
  {
   "cell_type": "code",
   "execution_count": 3,
   "metadata": {},
   "outputs": [],
   "source": [
    "cnt = int(input())\n",
    "for i in range (cnt):\n",
    "    turtle.forward(60)\n",
    "    turtle.stamp()\n",
    "    turtle.right(180)\n",
    "    turtle.forward(60)\n",
    "    turtle.right(180 - 360/cnt)\n",
    "turtle.exitonclick()"
   ]
  },
  {
   "cell_type": "code",
   "execution_count": 2,
   "metadata": {},
   "outputs": [
    {
     "ename": "Terminator",
     "evalue": "",
     "output_type": "error",
     "traceback": [
      "\u001b[0;31m---------------------------------------------------------------------------\u001b[0m",
      "\u001b[0;31mTerminator\u001b[0m                                Traceback (most recent call last)",
      "Cell \u001b[0;32mIn[2], line 8\u001b[0m\n\u001b[1;32m      6\u001b[0m turtle\u001b[39m.\u001b[39mpendown()\n\u001b[1;32m      7\u001b[0m \u001b[39mfor\u001b[39;00m i \u001b[39min\u001b[39;00m \u001b[39mrange\u001b[39m (\u001b[39m11\u001b[39m):\n\u001b[0;32m----> 8\u001b[0m     turtle\u001b[39m.\u001b[39mright(\u001b[39m180\u001b[39m\u001b[39m-\u001b[39m\u001b[39m180\u001b[39m\u001b[39m/\u001b[39m\u001b[39m11\u001b[39m)\n\u001b[1;32m      9\u001b[0m     turtle\u001b[39m.\u001b[39mfd(\u001b[39m100\u001b[39m)\n\u001b[1;32m     10\u001b[0m turtle\u001b[39m.\u001b[39mexitonclick()\n",
      "File \u001b[0;32m<string>:8\u001b[0m, in \u001b[0;36mright\u001b[0;34m(angle)\u001b[0m\n",
      "File \u001b[0;32m~/anaconda3/lib/python3.11/turtle.py:1679\u001b[0m, in \u001b[0;36mTNavigator.right\u001b[0;34m(self, angle)\u001b[0m\n\u001b[1;32m   1660\u001b[0m \u001b[39mdef\u001b[39;00m \u001b[39mright\u001b[39m(\u001b[39mself\u001b[39m, angle):\n\u001b[1;32m   1661\u001b[0m \u001b[39m    \u001b[39m\u001b[39m\"\"\"Turn turtle right by angle units.\u001b[39;00m\n\u001b[1;32m   1662\u001b[0m \n\u001b[1;32m   1663\u001b[0m \u001b[39m    Aliases: right | rt\u001b[39;00m\n\u001b[0;32m   (...)\u001b[0m\n\u001b[1;32m   1677\u001b[0m \u001b[39m    337.0\u001b[39;00m\n\u001b[1;32m   1678\u001b[0m \u001b[39m    \"\"\"\u001b[39;00m\n\u001b[0;32m-> 1679\u001b[0m     \u001b[39mself\u001b[39m\u001b[39m.\u001b[39m_rotate(\u001b[39m-\u001b[39mangle)\n",
      "File \u001b[0;32m~/anaconda3/lib/python3.11/turtle.py:3293\u001b[0m, in \u001b[0;36mRawTurtle._rotate\u001b[0;34m(self, angle)\u001b[0m\n\u001b[1;32m   3291\u001b[0m     \u001b[39mfor\u001b[39;00m _ \u001b[39min\u001b[39;00m \u001b[39mrange\u001b[39m(steps):\n\u001b[1;32m   3292\u001b[0m         \u001b[39mself\u001b[39m\u001b[39m.\u001b[39m_orient \u001b[39m=\u001b[39m \u001b[39mself\u001b[39m\u001b[39m.\u001b[39m_orient\u001b[39m.\u001b[39mrotate(delta)\n\u001b[0;32m-> 3293\u001b[0m         \u001b[39mself\u001b[39m\u001b[39m.\u001b[39m_update()\n\u001b[1;32m   3294\u001b[0m \u001b[39mself\u001b[39m\u001b[39m.\u001b[39m_orient \u001b[39m=\u001b[39m neworient\n\u001b[1;32m   3295\u001b[0m \u001b[39mself\u001b[39m\u001b[39m.\u001b[39m_update()\n",
      "File \u001b[0;32m~/anaconda3/lib/python3.11/turtle.py:2661\u001b[0m, in \u001b[0;36mRawTurtle._update\u001b[0;34m(self)\u001b[0m\n\u001b[1;32m   2659\u001b[0m     \u001b[39mreturn\u001b[39;00m\n\u001b[1;32m   2660\u001b[0m \u001b[39melif\u001b[39;00m screen\u001b[39m.\u001b[39m_tracing \u001b[39m==\u001b[39m \u001b[39m1\u001b[39m:\n\u001b[0;32m-> 2661\u001b[0m     \u001b[39mself\u001b[39m\u001b[39m.\u001b[39m_update_data()\n\u001b[1;32m   2662\u001b[0m     \u001b[39mself\u001b[39m\u001b[39m.\u001b[39m_drawturtle()\n\u001b[1;32m   2663\u001b[0m     screen\u001b[39m.\u001b[39m_update()                  \u001b[39m# TurtleScreenBase\u001b[39;00m\n",
      "File \u001b[0;32m~/anaconda3/lib/python3.11/turtle.py:2647\u001b[0m, in \u001b[0;36mRawTurtle._update_data\u001b[0;34m(self)\u001b[0m\n\u001b[1;32m   2646\u001b[0m \u001b[39mdef\u001b[39;00m \u001b[39m_update_data\u001b[39m(\u001b[39mself\u001b[39m):\n\u001b[0;32m-> 2647\u001b[0m     \u001b[39mself\u001b[39m\u001b[39m.\u001b[39mscreen\u001b[39m.\u001b[39m_incrementudc()\n\u001b[1;32m   2648\u001b[0m     \u001b[39mif\u001b[39;00m \u001b[39mself\u001b[39m\u001b[39m.\u001b[39mscreen\u001b[39m.\u001b[39m_updatecounter \u001b[39m!=\u001b[39m \u001b[39m0\u001b[39m:\n\u001b[1;32m   2649\u001b[0m         \u001b[39mreturn\u001b[39;00m\n",
      "File \u001b[0;32m~/anaconda3/lib/python3.11/turtle.py:1293\u001b[0m, in \u001b[0;36mTurtleScreen._incrementudc\u001b[0;34m(self)\u001b[0m\n\u001b[1;32m   1291\u001b[0m \u001b[39mif\u001b[39;00m \u001b[39mnot\u001b[39;00m TurtleScreen\u001b[39m.\u001b[39m_RUNNING:\n\u001b[1;32m   1292\u001b[0m     TurtleScreen\u001b[39m.\u001b[39m_RUNNING \u001b[39m=\u001b[39m \u001b[39mTrue\u001b[39;00m\n\u001b[0;32m-> 1293\u001b[0m     \u001b[39mraise\u001b[39;00m Terminator\n\u001b[1;32m   1294\u001b[0m \u001b[39mif\u001b[39;00m \u001b[39mself\u001b[39m\u001b[39m.\u001b[39m_tracing \u001b[39m>\u001b[39m \u001b[39m0\u001b[39m:\n\u001b[1;32m   1295\u001b[0m     \u001b[39mself\u001b[39m\u001b[39m.\u001b[39m_updatecounter \u001b[39m+\u001b[39m\u001b[39m=\u001b[39m \u001b[39m1\u001b[39m\n",
      "\u001b[0;31mTerminator\u001b[0m: "
     ]
    }
   ],
   "source": [
    "for i in range (5):\n",
    "    turtle.right(180-180/5)\n",
    "    turtle.fd(100)\n",
    "turtle.penup()\n",
    "turtle.goto(100,100)\n",
    "turtle.pendown()\n",
    "for i in range (11):\n",
    "    turtle.right(180-180/11)\n",
    "    turtle.fd(100)\n",
    "turtle.exitonclick()"
   ]
  },
  {
   "cell_type": "code",
   "execution_count": 23,
   "metadata": {},
   "outputs": [],
   "source": [
    "turtle.goto(0,0)\n",
    "for i in range (3,12):\n",
    "    for t in range (i):\n",
    "       turtle.left(180-((180*(i-2)/i)))\n",
    "       turtle.fd(i*5)\n",
    "    r=(i*2)/(2*np.sin((np.pi)/i))\n",
    "    turtle.penup()\n",
    "    turtle.fd(r*0.5)\n",
    "    turtle.right(180-((180*(i-2)/i)))\n",
    "    turtle.fd(r*0.5)\n",
    "    turtle.left(180-((180*(i-2)/i)))\n",
    "    turtle.pendown()\n",
    "turtle.exitonclick()"
   ]
  },
  {
   "cell_type": "code",
   "execution_count": 25,
   "metadata": {},
   "outputs": [],
   "source": [
    "for i in range (10, 150, 10):\n",
    "    turtle.forward(i)\n",
    "    turtle.left(90)"
   ]
  },
  {
   "cell_type": "code",
   "execution_count": 26,
   "metadata": {},
   "outputs": [],
   "source": [
    "from math import pi, sin, cos\n",
    "\n",
    "\n",
    "for i in range(200):\n",
    "    t = i / 10 * pi\n",
    "    dx = t * cos(t)\n",
    "    dy = t * sin(t)\n",
    "    turtle.goto(dx, dy)"
   ]
  }
 ],
 "metadata": {
  "kernelspec": {
   "display_name": "mipt_practice",
   "language": "python",
   "name": "python3"
  },
  "language_info": {
   "codemirror_mode": {
    "name": "ipython",
    "version": 3
   },
   "file_extension": ".py",
   "mimetype": "text/x-python",
   "name": "python",
   "nbconvert_exporter": "python",
   "pygments_lexer": "ipython3",
   "version": "3.11.4"
  },
  "orig_nbformat": 4
 },
 "nbformat": 4,
 "nbformat_minor": 2
}
