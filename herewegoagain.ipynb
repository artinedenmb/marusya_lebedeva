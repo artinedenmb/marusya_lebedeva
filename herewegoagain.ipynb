{
 "cells": [
  {
   "cell_type": "code",
   "execution_count": 1,
   "metadata": {},
   "outputs": [],
   "source": [
    "import matplotlib.pyplot as plt"
   ]
  },
  {
   "cell_type": "code",
   "execution_count": 2,
   "metadata": {},
   "outputs": [],
   "source": [
    "import numpy as np"
   ]
  },
  {
   "cell_type": "code",
   "execution_count": 3,
   "metadata": {},
   "outputs": [],
   "source": [
    "def func1(arr):\n",
    "    array = np.array([(1 / np.exp(np.sin(arr) + 1)) / (5 / 4 + 5 * arr)])  \n",
    "    base = 1 + np.sqrt(arr)\n",
    "    exponent = np.emath.logn(base, array)\n",
    "    return exponent\n"
   ]
  },
  {
   "cell_type": "code",
   "execution_count": 4,
   "metadata": {},
   "outputs": [
    {
     "name": "stdout",
     "output_type": "stream",
     "text": [
      "[[-5.30053725 -3.08029606 -2.96823268]]\n"
     ]
    }
   ],
   "source": [
    "print(func1(np.array([1, 10, 1000])))"
   ]
  },
  {
   "cell_type": "code",
   "execution_count": 5,
   "metadata": {},
   "outputs": [],
   "source": [
    "import turtle"
   ]
  },
  {
   "cell_type": "markdown",
   "metadata": {},
   "source": [
    "turtle.shape('turtle')\n",
    "turtle.forward(50)\n",
    "turtle.left(90)\n",
    "turtle.forward(50)\n",
    "turtle.left(90)\n",
    "turtle.forward(50)\n",
    "turtle.right(90)\n",
    "turtle.forward(50)\n",
    "turtle.right(90)\n",
    "turtle.forward(50)\n",
    "turtle.end_fill()\n",
    "\n"
   ]
  },
  {
   "cell_type": "markdown",
   "metadata": {},
   "source": [
    "turtle.bye()"
   ]
  },
  {
   "cell_type": "markdown",
   "metadata": {},
   "source": [
    "turtle.shape('turtle')\n",
    "turtle.forward(50)\n",
    "turtle.left(90)\n",
    "turtle.forward(50)\n",
    "turtle.left(90)\n",
    "turtle.forward(50)\n",
    "turtle.left(90)\n",
    "turtle.forward(50)\n",
    "turtle.exitonclick()"
   ]
  },
  {
   "cell_type": "code",
   "execution_count": 8,
   "metadata": {},
   "outputs": [],
   "source": [
    "pen = turtle.Turtle()\n",
    "pen.circle(50)\n",
    "turtle.exitonclick()"
   ]
  }
 ],
 "metadata": {
  "kernelspec": {
   "display_name": "mipt_practice",
   "language": "python",
   "name": "python3"
  },
  "language_info": {
   "codemirror_mode": {
    "name": "ipython",
    "version": 3
   },
   "file_extension": ".py",
   "mimetype": "text/x-python",
   "name": "python",
   "nbconvert_exporter": "python",
   "pygments_lexer": "ipython3",
   "version": "3.11.4"
  },
  "orig_nbformat": 4
 },
 "nbformat": 4,
 "nbformat_minor": 2
}
